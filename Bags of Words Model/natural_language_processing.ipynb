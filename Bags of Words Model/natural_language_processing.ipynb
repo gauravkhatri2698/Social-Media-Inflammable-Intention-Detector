{
  "nbformat": 4,
  "nbformat_minor": 0,
  "metadata": {
    "colab": {
      "name": "natural_language_processing.ipynb",
      "provenance": [],
      "collapsed_sections": [],
      "toc_visible": true
    },
    "kernelspec": {
      "name": "python3",
      "display_name": "Python 3"
    }
  },
  "cells": [
    {
      "cell_type": "markdown",
      "metadata": {
        "id": "VwK5-9FIB-lu"
      },
      "source": [
        "# Natural Language Processing"
      ]
    },
    {
      "cell_type": "markdown",
      "metadata": {
        "id": "X1kiO9kACE6s"
      },
      "source": [
        "## Importing the libraries"
      ]
    },
    {
      "cell_type": "code",
      "metadata": {
        "id": "7QG7sxmoCIvN"
      },
      "source": [
        "import numpy as np\n",
        "import matplotlib.pyplot as plt\n",
        "import pandas as pd"
      ],
      "execution_count": 1,
      "outputs": []
    },
    {
      "cell_type": "markdown",
      "metadata": {
        "id": "wTfaCIzdCLPA"
      },
      "source": [
        "## Importing the dataset"
      ]
    },
    {
      "cell_type": "code",
      "metadata": {
        "id": "UCK6vQ5QCQJe"
      },
      "source": [
        "dataset = pd.read_csv('Ethos_Dataset_Binary.csv')"
      ],
      "execution_count": 2,
      "outputs": []
    },
    {
      "cell_type": "markdown",
      "metadata": {
        "id": "Qekztq71CixT"
      },
      "source": [
        "## Cleaning the texts"
      ]
    },
    {
      "cell_type": "code",
      "metadata": {
        "id": "8u_yXh9dCmEE",
        "colab": {
          "base_uri": "https://localhost:8080/"
        },
        "outputId": "299ce651-c695-433e-b643-88b572160483"
      },
      "source": [
        "import re\n",
        "import nltk\n",
        "nltk.download('stopwords')\n",
        "from nltk.corpus import stopwords\n",
        "from nltk.stem.porter import PorterStemmer\n",
        "corpus = []\n",
        "for i in range(0, 998):\n",
        "  review = re.sub('[^a-zA-Z]', ' ', dataset['comment'][i])\n",
        "  review = review.lower()\n",
        "  review = review.split()\n",
        "  ps = PorterStemmer()\n",
        "  all_stopwords = stopwords.words('english')\n",
        "  all_stopwords.remove('not')\n",
        "  review = [ps.stem(word) for word in review if not word in set(all_stopwords)]\n",
        "  review = ' '.join(review)\n",
        "  corpus.append(review)"
      ],
      "execution_count": 4,
      "outputs": [
        {
          "output_type": "stream",
          "text": [
            "[nltk_data] Downloading package stopwords to /root/nltk_data...\n",
            "[nltk_data]   Unzipping corpora/stopwords.zip.\n"
          ],
          "name": "stdout"
        }
      ]
    },
    {
      "cell_type": "code",
      "metadata": {
        "id": "KpGWdrzGoAsL",
        "colab": {
          "base_uri": "https://localhost:8080/"
        },
        "outputId": "50d64966-c504-42a7-d792-d34470dd8146"
      },
      "source": [
        "print(corpus)"
      ],
      "execution_count": 5,
      "outputs": [
        {
          "output_type": "stream",
          "text": [
            "['know women sport joke', 'look like sloth deeper syndrom', 'look like russian speak like indian disgust go kill', 'women deserv abus guess', 'women made make babi cook dinner noth els', 'faggot taken bi pill yet', 'go beck god murder christian joke', 'african american monkey hold gun like', 'bulgaria exist countri one homosexu one', 'negro tear neighborhood black thug get kill law enforc must low iq', 'give aa fuck shit diamond jew fuck', 'think cunt wtf stay steadi aim head littl christian rat', 'white peopl shit human be', 'happen good old day freak not exist sewer freak drag manufactur group freak want cut cock take ars hope world treat woman take woman stop pander twat', 'global massacr men pussiezzz girl', 'disgust man disgust religion admit muslim buy wife pff muslim poor islam keep stupid', 'well clear european differ nigger shitskin human', 'well im glad live serbia migrant islamist not welcom', 'well done slovakia god bless not build mosqu allow recognis islam get point europ want muslim', 'white higher iq black iq measur intellig evolv superior race larger brain', 'take everyon sudanes nigger egyptian shitskin palirat syrian iraqi scum dog behav like nigger cost much especi syrian way mani arrog ungrat backstab ape', 'need nazi parti return get anoth hitler form ss start ethnic cleans muslim ye ye gather put concentr camp put muslim refuge ship send back thier countri want live thier way thier ridicul law assimil new western countri tri dictat us even remov jesu school public area fuck seriou fuck dirti smell muslim stop dictat cant countri peopl power must rise say enough enough take sweden back swede take greec back greek take germani back take poland back take denmark back save countri take europ back introduc ss style polic clean street ghetto full dirti muslim govern fault allow th shit happen send militari send brutal polic start clean countri europ muslim invad europ allow happen ancient time even year ago islam invad europ would war bring back crusad ss style nazi polic must unit stand protect democrat countri law way elimin islam throw dirti smell muslim anim send back countri live wish fuck goat rape women fuck disgust muslim low life dirti race islam nit god religion cult ridicul uneth imor cult satin work satin preach god creator univers not preach kill infidel kill non believ wive commit pedophilia marri year old littl girl muslim never contribut human never invent anyth noth posit come islam creat noth invent noth contribut noth human race muslim live western democrat countri enjoy way milk welfar system ruin countri creat problem fight steal creat crime scare peopl tr chage western way life even rape women fuck cocksuck burn impal must fight back unit clean europ soon god send true messeng planet earth god send clear messag human muslim peopl feel wrath god suffer consequ muslim suffer lose invas european win take back europ begin new crusad christian vs islam crusad islam need fight protect way life democrat societi', 'men enjoy reproduct right pay abort right fund plan parenthood right overpay obama care fund contracept promiscu slut get pregnant fault nobodi els left wing liber piec shit go whore keep spread diseas half black women herp right pay outrag', 'watch kid tri step walk crutch best thing world idiot', 'u suck shit black fuck', 'transgend need help sick head civil mess world soon enough peopl claim right chang anim seen human right right choos', 'tran use logic feminist use decad destroy men feel sorri wamen not one bit', 'time nuke china unleash plagu', 'throw stone parapleg kid favourit hobbi', 'shit guy box head thrown top window fuck peoado muham islam', 'sick disgust white terrorist fascist kill innoc peopl', 'priest hate even stupid god', 'korean bitch like pig made armi sumo shithol countri', 'sin say bibl dumb fucktard stop say go heaven gay not go heaven trust fuck choic gf date girl nd bf date like girl straight chang right side', 'exactli feel like see tranni like disgust af', 'consid white sweden wonder accept black muslim immigr liter color blind', 'homo faggot spike lee wore flopscer notic blatant sublimin messag', 'fcking jew want money give dick want', 'insol parasit alway bear ill christ jewish race plagu', 'women autist smart autist peopl retard make weird nois flap hand peopl not autist', 'peopl fuck anim never chang cultur simpli not compat definit rape cultur right islam', 'clearli written quran person not follow quran call kafir kill get hour islam terror', 'world would better without white peopl stole black egyptian christ age poor wasnt white ruin everyth black peopl white peopl pig dick shape hip booti get plastic surgeri us black get mother white brought skin cancer america learn fact tri run us america yall racist ass smelli cracker dont say beat ass cant wanna find drop adress', 'reason see indian bash muslim islam hindu supremacist hate islam muslim atroc kashmir cow lynch muslim gang rape muslim children not read heard clear muslim across world india not friend islam muslim behind disguis secular hate muslim arab muslim countri resid see understand ugli face racist hindu overwhelm major india number vote cast bjp rss parti proof amaz saudi arabia gulf countri spend billion india not see much hate islam muslim particularli arab wake understand make let muslim unit boycott indian product restaur movi stop kill muslim kashmir rest india make law stop anti muslim hate racism', 'thing repuls nigger nigger faggot self hate white shower imag cross dress nigger prais modern left fetish form deprav', 'men turtl idiot even uk get lost', 'guy feel shame gay wrong choic bad influenc young peopl never seen proud gay like say proud rapist aw time disappoint trump polit pressur fail stand ground right thing', 'girl still need good ass whoop stupid ass bitch', 'fuck black cunt get fuck cross hair fuck head look owe not shit anyon dosent owe look whore fuck death percentil fall whore black racist whore take red pill', 'teach kid transgend anyth mental ill get set fire', 'taliban peopl thought must hang', 'surpris burqa ban belgium not poland much look upon kill', 'support china also fight cancer religion xinjiang despit differ two race one unit enemi islam', 'stupid ugli asian tan ass snitch', 'stupid black women restaur would whip ass', 'stone throw must legal women', 'stand fuck take fuck lazi white male fuck call racist protect woman children find street kill buri right anim wipe not care', 'smack bitch mouthi african cunt', 'said christian well want buri', 'heavili reli turn cheek tough talk demon infest woman', 'serbia kill gay yugoslavia not albanian bosnian croatian', 'send gay hell', 'see black pari tri pretend french men want one thing pimp girl women black women desir white men pretend like white french wive african not blend white societi', 'salut taliban mujahideen pakistani strongli support go crush america kill bastard allah u akbar victori insha allah', 'realli hope get rape futur rape women legal think', 'racist ass black bitch slap white man bu driver uppercut ass', 'phuck white rasist ass peopl', 'man walk littl girl gay pride flag want jump video punch ya know that assault', 'black live matter fuck white peopl cancer earth', 'nativ american fuck joke not even decent mother languag', 'muslim want war take first', 'mental disabl peopl fuck scari disfigur unnerv strang fact mental capac year old make threaten never know might', 'men race subordin women', 'mayb autist wish death', 'look gay ass nigga lol act like bitch', 'lol not white jew jew worst nation must annihil like', 'lock women home femal stupid understand anyth iam agnost', 'lgbtq mental ill period', 'let go beat queer', 'kill korean werri good', 'kill basterd son slut attack u name religion kill feed dog abus make filthi cartoon prophet wish fuck religion islam least vanish motherfuck kill', 'kill gay', 'kill everi white peopl mercylessli', 'kill black peopl', 'look crowd fat white trash meth addict', 'numb disgust degeneraci fruitless hedon faggot sex', 'islam pig shit', 'islam hell asian hate isalm islam bring destruct kill rape rufuge islam hell asian thought sorri true', 'islam religion hate propaganda type video dishonest simpli read quran hadith', 'islam home terrior', 'guy shadow genet faggot', 'indian shit burger broken english ebon learn still fail second thread row burger figur', 'incest babi got doubl syndrom', 'ima fuck stab u bruv fuck white prick bruv fuck racist gammon', 'im go choke cross necklac idiot religi pig', 'ignor feminist got roast still understand equal outcom mean even jordan explain data mean ignor emot bias', 'men shouldnt hit women physic stronnger women shouldnt talk fuck louder', 'dad googl abort year old mental handicap', 'would inject lethal heroin sick child immedi', 'meet one apostl would fuck not kill', 'syndrom would kill', 'search hitman right kill whore everi like h e w e n', 'rememb charg disabl kid everi night wish slow death', 'like homosexu rais kid opinion', 'hate mental disabl peopl tri touch kid', 'hate everi religion hate religion stupid theori god shit', 'fuck hate gay lesbian anim', 'think right write comment even express opinion freeli free speech human right autist human', 'hate women think noth interest say none reason exist', 'hope fuck die bitch gay peopl not exist lick one anoth ass', 'homosexu lead death extinct', 'homosexu transgender mental ill sexual pervers', 'hindu muslim shit know kill peopl see comment christian peopl rude abus bad word christian religion best religion world', 'gun shot fi gay get gun polic must give right kill gay gun shot gay suck mother gay', 'grow fuck ball take back countri bong start kill report politician asian', 'good muslim deserv attack damag', 'gay remov face earth', 'fuck stupid feminist bitch', 'fuck monkey kill', 'fuck migrant need ban fuck anim', 'fuck u anti muslim heartless asshol u go hell', 'fuck gener vodka nigger noth tough alcohol wife beater till die alcohol poison wife becam ugli babushka abort children noth tough slavishli follow corrupt leadership treat like fuck shit', 'fuck nigger wv full', 'fuck nigger need right want christma lynch nigger', 'fuck gay disgust', 'fuck bulgaria stupid countri', 'femin women cri fabric bullshit go joke man', 'execut ohomo shemal bitch mike', 'everyon hate gay', 'everi time see hijab niqab burka shit fantasis choke death fack piec cloth', 'even god hate dominican els shit monkey island haitian', 'europ land white peopl let african take home fuck islam fuck multicultur', 'equal not appli peopl differ religion except christian', 'eeewwwwwww transgend fuck disgust', 'worri guy men easili win femmen trust everi shit invent men pattern men way women gina win futur smoke fire', 'women born whore ot develop later', 'dirti christian follow creat war everywher iran attack usa support iran', 'die fuck arab dude sand nigga', 'destroy islam', 'deport nigger spic chink undesir white nation belong white nation invad enemi forc', 'crazi aunti get rid autist son make good planet', 'christian demon', 'cancer ugli tard be except lauren die fuck alreadi wast whore nobodi mi ugli dumb tard wast spqce fuck women islam right like fuckoff die', 'get white peopl run mtv black peopl even filthi pakistani long get back music anyth would better jew', 'burn kick islam eu support fuck islam', 'buddhism religion cow peopl believ shit get chop sooner later', 'black liter cuckold race also epitom degeneraci listen believ jewish propaganda black alpha consid top social hierarchi white', 'lesbian fine realli love anim', 'bee gay anti human', 'everyon know islam men devil', 'autist presid like trump get elect', 'asian fat yellow fat peopl yellow', 'sjw right black peopl rob kill not allow white privileg', 'lesbian look like complet hog actual want man', 'ugli man wig dress still ugli man wig dress not woman', 'asian moe howard piec shit', 'american peopl dumbass even know geographi', 'american indian final almost extinguish', 'muslim worship satan time day', 'mental ill aw must treat', 'girl like pimp guid success prostitut', 'time african american peopl crime rate', 'actual autism make retard', 'jew lower class pig', 'send whini black crybabi back central apefrica live one month would cri come back america white peopl pamper coddl let tri experi one time', 'tran peopl gay looser', 'jew faggot behind financi collaps', 'transgender diseas transgend abomin not also lie cannot chang dna male femal femal male two gender either born male femal god creat cannot chang matter mani surgeri drug hormon matter much therapi one fact', 'not allow kill christian', 'ugli white girl white dude would not get away', 'women properti sooner realiz better', 'meaner dyslex peopl', 'ugli long chin brainless problemat mother fucker look retard', 'women grow pair refus compet men asinin', 'men see beauti want sleep black women make goblin babi', 'feel uncomfort room abnorm disabl person', 'weak beta male hope turn tranni traumat experi haha', 'look magic retard', 'lucki girlfriend bet asian peni smaller thumb', 'yo nigga go back asia', 'face like bet could scare hiv remiss', 'europ evict bastard ruin civil', 'send everi men mar start new life useless cours milk first store juic', 'well religion satan least', 'bad women know kill', 'religi cockroach pure evil go melbourn danger place', 'kind fake photo black piss approxim black popul present accept way either enorm fat slovenli ungroom trashi cloth menac glare white peopl blackfac', 'dark colour race mean shit', 'thing women not equal us men place home kitchen', 'power christ compel demon whore feel wrath petrol wench', 'porn industri billion dollar industri beauti women best way kill femin feminist ignor watch resort weapon pussi ugli feminist convinc women take everyth includ male sport use pussi bring men sexual harass scandal would make headlin news feminist sex male prostitut cheat husband man sex femal prostitut cheat wife would make headlin news woman sex marri man knew marri marri man cheat wife', 'first step remov romanian good anywher wash', 'asian bloke need shave cover hideou beard burqa', 'stupid feminist fuck sake fuck kill', 'sophi walker leader noth solid topic complain want simpl fact not annoy toxic feminist speech useless sex', 'smack fat ass', 'shemal paranorm creatur let free neither captur dead buri alreadi', 'save secur polic deport immigr sadiq khan', 'racist ass white ass peopl', 'pleas come back filthi caucasian chang snake next time keep chang', 'peopl traumat brain injuri abil get euthanat', 'pakistan jihadi terror sponsor nation simpli deceiv world sign desper jai hind', 'fag want see two chick want son grow fag right', 'oh christ autism pleas hear nauseam start make sick get autist peopl beauti special creatur end world sort tragic cosmic accid neurotyp soulless conformist subhuman pig never abl understand autist need endless patienc forgiv get live pleas', 'know better shit lol dude stronger sex man supremaci', 'moldova countri masochist poorest countri europ russian occup spite still cling instead embrac prosper europ not smart', 'mass black worldwid genocid hope', 'look like gay poster boy syphili', 'lmfao fat slob wheelchair', 'lgbt spread asia mani anti lgbt asian worri cultur ruin cuz viru', 'kneel white boy era brown peopl', 'kill muslim', 'jewish piec shit like get hang', 'good thing im not command polic forc special not someth like jail would full ppl wait deport not dead', 'take fat black bitch say someth super stupid', 'islam let beat feminist ass', 'islam horribl religion good societi whole horribl horribl horribl', 'world fill stupid femal bitch', 'indian ned flander look like profession harrass subpar women facebook', 'fuck cool femal good fuck bitch need break ass shake ass', 'germani call nazi hitler ill protest hang', 'black would liter behind bar faster even imagin', 'dad would cut peni make useless', 'would donat asylum weird kid miss gene', 'wonder throw fire boom cult muslim insid would one hell bbq', 'wish hiv butthol male whore', 'want everyon els pay educ healthcar hous fuck white peopl give money white peopl fuck', 'realli like accent want call support call rat like want cute ladi british accent answer call third world piec job planet', 'love watch cross believ get kill god place ha ha', 'love deaf peopl scream scold', 'like macklemor not anymor gay fuck die motherfuck cocksuk', 'like dead refuge shore', 'know mental disord kid would not stand sec beat fuck', 'care mental ill want pay tax damag brain', 'blame texa tran look upon', 'spot hitler blood german dude', 'hope non white parasit flee new host nation could good thing get young peopl start busi better societi innov high iq', 'hindu take ass pleas', 'hey sweden rememb back time men vike act around like dick leg block', 'weirdest autist seen life', 'right islam inde piss', 'hate church cathol one right happi see burn dust', 'hahahahahahahahaha europ fuck fuck nazi', 'gay never african never sick white peopl go fuck let us', 'ga aussi retard', 'fuck nigger go back africa', 'fuck canada stupid think cold shrink brain', 'fuck faggot disrespect idiot brother law love start fight famili function convers asshol like', 'fuck shit bitch ugli peni oh hell nawww', 'fuck sweden let die like degener', 'feminist deserv miser kind man would want live feminist silli cours cuck', 'femin terribl diseas', 'fck serbij kill', 'fat bitch need black cucumb tight u know lmfaooo', 'syndrom problemat peopl must dead', 'live not want deport jew muslim', 'hit women fuck make pregnant', 'lesbian know bra alway fat ugli one pick fight', 'disabl kid annoy not cute', 'deport cunt asian', 'dalit name religion atom poo composit', 'crazi fat religi bitch get brothel church saw christian meet christ heaven hell', 'christian get crazi religi get f u c k n g annoy', 'chinki filthi guy get us get land', 'women peopl fine', 'bulgar indo european turk not ignor pakisven bulgaria rule half europ turkey even exist deport turk meanwhil made ruler sven fake german countri rule arab', 'buddhism peopl remind cow', 'black peopl racist peopl ever met not even white know black racist', 'bewar lbgq commun shari law come guy go back closet save head', 'beat tranni ass', 'asham bodi colour', 'mental handicap normal form way kill pleas', 'appar east asian commit less crime us well submiss conformist loser white power', 'anyon listen rap white not part ethnost put death', 'know lgbt human hope god make chang sick ass way hope anoth soddom ghomorra occurr happen amen', 'traumat brain injuri turn gay know worst suicid way', 'abort solut autism', 'solut u illeg immigr problem round million take mexican border regardless countri send mexico mayb mexican border run immigr mexico understand help pay wall', 'stop illeg immigr done year ago turn belov lo angel turn filthi mexican border town complet latino gang million undocu uneduc povertystricken alien absolut noth add qualiti life strong back procliv dozen babi becom legal us citizen due insan law forc california teacher teach nativ languag addit increas alreadi low wage add free health care welfar hundr thousand enjoy american taxpay expens blueprint disast left california good vote trump good everi time see mexican graffiti pristin neighborhood lo angel want help build wall fear far late million illeg america soon becom unit state mexiconow im see exact thing happen western europ england franc germani unfortun live see exact thing happen complet utter destruct countri border cultur ident sacrif altar uncontrol global purpos creat turmoil econom disast', 'wow guy talk like retard hahahahahah', 'leg bag meat household favour get dead alreadi', 'nigger superior athlet race', 'black peopl fuck pale', 'channel danger islam', 'hate dog women gay christian jew infidel sure let want kill us', 'waitress cunt', 'rose red sweatshirt blue white girl get rape suspect sure', 'realli think european peopl like humili muslim think big mistak indian mean like either tri look cute way accent suck terribl friend', 'wish cut vein shout mental problem act cut', 'hell norwegian speak law speak scandinavian scam', 'use handicap restroom mental challeng problem solv', 'came countri knew go slave work build shit shut take caus otherwis go end get sand shit', 'see men run plastic leg laugh ass hard fart time', 'shove crutch ass', 'well franc final shithol happen open border side suffer', 'take power back superior gender', 'tri talk senseless inan god meet soon possibl thank hand bitch', 'deaf peopl like rat dark place surviv day post apocalyps event sure would kick em stole suppli', 'muslim pump hood better run better run faster bullet', 'happen bitch cunt look like guy call correctli bitch cunt would think could lay hand anoth repercuss mayb seizur much bitchi cunt', 'c k ever seen girlyman like go lavatori wife daughter somebodi better call emt way shehe come stretcher bodi bag sayin', 'crazi liber satan crap fall two gender peopl cofus psycho', 'white dislik documentari mad truth whitedevil', 'brother speak truth base fact u christian realli white supremacist never studi religion blindli follow priest adher n misguid think colour import aspect invent religion', 'us survey take fema camp put ga peopl not come starvat destitut bad area look dress well dress well fed like trojan hors time put penal camp get rid make use fema camp', 'skin colour funniest one combin eye perfect stupid', 'sorri unlik germani not inciner mental disabl', 'suggest men comment video kill', 'mayb follow degener sandnigg religion middl east', 'one need pareto analysi global terrorist belong singl religion repres global popul billion billion global popul say terror religion colour biggest bluff world islam peac religion refuge islam countri seek non muslim countri settlement want islamis world', 'lgbt okay islam go get kill', 'count hispan get probat find self troubl get probat get deport come back boom violat probat gave knowingli sent back rat smart bunch govern bull shit', 'lowlif black anim', 'lesbian cant math fuck mood lmao', 'kill pig eater fuck americunt send hell', 'nuke entir shi hole countri', 'jewish terrorist kill innoc palastinan defend', 'islam religion peac kill anyon say otherwis name allah cours', 'get money back sex chang complet failur', 'like girl polic offic want polic keep safe everi woman cannot keep us safe week', 'would smack also homophob jail ya', 'would pull race cop', 'would love watch tear apart everi christian muslim', 'let allah fuck life convert christian make self kid favour return back homeland', 'visit melbourn lo angel first time told aussi friend put stop immigr multipli like ant laugh say oz big countri told look term year la see mexican done citi aw multipli like ant suck resourc', 'thought big reason african skin obviou marker tell someon slave even run still black', 'thought kid syndrom not accept famili', 'think brown black dark skin peopl choos slave even know not superior white dude', 'regret approach girl fuck gynocentr societi hate wish vanish like feel', 'mean great prove asian devolv finish make iphon', 'like big thick bitch serv cocktail good thing', 'honestli hate china u disagre cant horribl place horribl peopl', 'feel like ai apocalyps ai would kill human serv purpos disabl peopl like one would probabl go often work effect', 'like gender definit hire male bitch shop', 'like jew soap get rid well live', 'care black white green purpl support polic shoot peopl unless extrem situat white live matter', 'dare choke next time everi one', 'frikin faggot get whole month veteran actual someth incred us get day hate lgbt', 'honestli go fuck bitch', 'us great servic kill stop crime wave welfar leach bad didnt truck ummmm note fox news illeg legal document get someth wrong nope illeg', 'glad beat open ass', 'fuck idiot keep chang cultur take small town vote peopl rule town start enforc religi belief everyon cannot fuck happen stop still', 'fuck homo dumb ass prick shoulda let get fuck eaten asshok fuck worthless dick nobodi would miss', 'filthi chines', 'fat lesbian', 'everi girl planet curs mother birth know powerless sex pray born men dick stuff', 'even incom advantag nigger still get btfo race monkey tri human thing extinguish', 'dude talk sex nowaday consid degrad one think', 'dexpraxia ass girl cheap excus lazi get paid countri bet pretend like', 'come closet know buri', 'blind would make want suicid go kill kid', 'asian remind world slaveri servitud', 'arrest fat ass bitch', 'sure girl wig leg say want boy', 'effort not look like basic attent whore yet clearli still massiv attent whore', 'gay nigger howev fake hate crime public help democrat mafia pass anti lynch bill get troubl', 'superior race cannot stand sun without liter burn fuck comic', 'build wall deport', 'terrorist not islam satan terrorist insult islam kill terrorist', 'shoulda let die', 'wow feminist real hypocrit ok woman laugh suicid attempt involv men not ok men laugh suicid attempt involv women talk doubl standard', 'research invest time better wheelchair cunt not deserv', 'white smoke much ciggssss drug shot co say drug kid', 'imaginari gender', 'well think ok turn femal male use militari stronger male femal shall ban guess form tran ok better state', 'two thing appar one not male two ass inde sorri turn drive', 'man inspir kill peopl rape women want like not scare death not scare anyth', 'indian sub count', 'right get ass kick way back across border', 'laugh countri poor evil murder corrupt good job', 'dog lie teeth come set jihad infidel', 'protest today birmingham hate great see muslim gay march togeth uniti', 'worst nightmar peopl pari europ world gener devast monstrou act hope death fuck culprit die hell', 'world white peopl word letter peac', 'problem islam think right tell human be good person right wrong exampl men love hurt nobodi think god told stop interfer ppl life non busi think burn let think stop bc god told that thing', 'older hispan woman episod view everyth shallow ass kissi stori brother law kill illeg alien im truli sorri lost hate sound insensit anybodi could kill includ legal citizen unit state theyr twist peopl everywher pull illeg alien card violenc bc everyday part life us without peopl come illeg', 'male gene stronger cours asian male breed white women child look asian revers child look mush whiter', 'fat bitch annoy hell', 'best thing steril women tri save children', 'whore better eyelash women', 'punch turn immigr jaw direct nigeria', 'syria religion problem', 'slow death peopl like', 'serious arab turk ever met someth crime either someon famili', 'put woman abus fat woman put kind guy', 'perfect place lana china myanmar troubl know handl pig', 'pale cancer back west pacif ocean', 'legal immigr like hero offic singh murder line duti illeg alien not belong deport today', 'today episod guess gender', 'oh god ye feel shrapnel pierc skin let fire consum flesh lay lifeless unforgiv sand seep wound scream give murcia fuck yeah patriot song earth burn hell goat', 'american nazi kkk member elect trump', 'magnifici contrari media report hope peopl europ expel leech', 'lmao watch church burn', 'kill see gay treat like think lesbian privileg peopl', 'littl work eyebrow could waitress day annoy freeload dude hous night', 'sick sad young peopl think concept clout like rap nigger invent even properli taught english languag anymor', 'nose thor hammer', 'dream wish die call man talk like queen', 'ill vote forbid peopl cannot hear driver licenc clearli thread', 'way get children without get women pregnant readi kill', 'idiot alway religion stupid thing human invent', 'would beat shit everi russian', 'notic lgbt cancer start slowli affect sa countri like japan', 'hate man wish ladi man earth exist', 'guess god white', 'know futur gay gym teacher take aid test', 'stand feminist like men manli like treat like ladi dear men woman ask help ask feminist say ye remind everyth without men help', 'human third leg hope distinct soon much love', 'kid act like sloth like pug dog hard place put dedic institut problemat pay visit year max', 'europ allow million rapist anim go', 'anyon convert forcebl profit christian may hindu group jealou christian come want christian hindu goon tie saffron forehead gaurdian hinduism like shankar acharya vivekananda', 'hope knock ass ground rip dress shame that power imag', 'hello call tech support indian accent', 'go bleach black pussi doll come talk', 'gener speak women lazi worthless not', 'fuck slut deserv', 'fuck freak church brought togeth peopl well power matter fact', 'franc let refuge happen fuck anim', 'everi femal domin job low skill minim educ requir not much physic exert indoor tightli control hour', 'easter silli holiday ever exist must stop shame shame shame', 'world favor pour bleach glass', 'disgust sick queer kill', 'disabl centr around world money goe let take em', 'come kill wife', 'catholic beast come daniel dream interpret', 'call period natur procedur excus degrad gender suppos agre though degrad anyway', 'believ white superior everi way nip western countri prosper specif racial differ', 'anti lgbt peopl sad ignor cant believ not see stupid', 'peopl fuck queer thing realiz shitti gender role absurd see revers gender role', 'actual weird peopl harm need medic mother know like not deni', 'abu da bi aba du ba ba hamud see arab priest sound right joke', 'homo fuck brother instead sister', 'chase everi white countri hunt like anim evil scheme plot', 'men women not equal irrat contrari belief polici result mount failur', 'sad fuck situat muslim', 'look like someon would electr wheelchair race stephen hawk', 'ask call male alway woman', 'yo go hell homosexu god make like', 'peopl dumb polic yell everyon get area yet peopl stood record guess want die', 'white polic offic alway victim', 'fuck disgust absolut disgust disappoint today america', 'well congratul u loos one ur subscrib shame u guy u guy sick', 'need extermin peopl subject children pervers', 'repeat past use germani jew china muslim', 'trump liar idiot douch bag narcissist zionist boot licker', 'illeg want sue compani money owe money owe america cost money educ medic care welfar ect', 'women sort psychopath goe way either male femal toxic relationship need get help sooner better', 'peopl treat women like dog', 'fuckhead make asham jewish shit peopl like destroy everyth', 'cop get arrest walk like freeli public problemat must stay home lock sue parent', 'get know homosexu anyway get wrong peopl nowaday teach homosexu stop teach heterosexu also', 'nowher world woman equal place presid prime minist queen america australia canada britain scandinavia franc shall go like honestli woman u live equal world stop self obsess stop refus look fact women alreadi equal men long time', 'one facil open us provid shelter abus men feminist protest close none', 'histori men hit women provoc hit women come ij let real howev never hit man kick ball school hit imma hit back man woman child get trust ima tri hit harder hit bc dont want smoke howev not stand women hit men not expect retali wack put grown panti take consequ slap punch especi ball kick use get away attack not reason prove point emot dont think equal bc men women douch equal respons unprovok attack gender', 'evil realigion cristian right europ american asia australia puertorican discust mind craquer san bernardian bravo mr presid', 'wheelchair woman actual scari', 'safest civilis societi world japan ban islam coincid', 'rotten nasti bastard', 'next time like front one like shout left ear trash worthless hahahhaa know bad man im badman', 'thank god least music pale pain blind oh hear haha', 'sorri black american danger homosexu homosexu much privileg african american latino arab', 'someth hate bisexu peopl alway say either gay straight bisexu real thing shut da fuq real thing', 'sterilis upon arriv futur exist', 'said crazi love god well liter crazi relief life', 'send em home metal crate probat year crime straight home mani kid straight home bye', 'poor women', 'peopl barbar cultur desert religion', 'peopl say yaaaassss queen sterilis', 'peopl chang gender left right cant even decid tattoo', 'peopl genuin good learn hate europ white christian kill happen muslim world', 'feminist accus woman demon abus women time', 'sea fill disgust dead filth like ruin mediterranean vacat', 'michael jackson sick man sick fan', 'love love god except everyon mean everyon mean everyon christian pan sexual respect everi singl person lgbtq commun', 'lol korean korean know not look anyth like draw mani squar face see divers korean face answer reveal end find video esp initi commentari pretti bias ethnic chines peopl tell youtub tell asian apart asian racist peopl asian', 'lesbian chewbacca', 'shoot one less deal futur', 'not genderless look like girl', 'awkward women work public servic lowiq', 'guy actual autist fake', 'case hire women lesser get profit', 'not masculin woman dude', 'fking queen move direct pleas move away camera use take pictur appli everi women', 'white peopl gone earth go directli back stone age not even kid', 'men come norway seek liberti human right respect women right norway peopl dont show piti accept kind peopl countri', 'god hate lgbt member much make peopl mean look jesu dad turn perfectli fine', 'id beat fuck ass wasnt actor', 'sure woman widow abort monster child hit help live life', 'take feminist serious start talk send women combat amount women men kill wound battl exactli equal right', 'love destroy need tech support', 'propos suicid evert politician', 'hate kid problem say feel ver uncomfort around weirdo like pleas god make child healthi good one', 'white go school whare mostli black kid made fun skin best friend mom dose not like white chang school', 'humili str guy str guy like dumb thing', 'fuck million subscrib fuck twat', 'holi shit kill', 'complain right violat well mayb come uninvit countri', 'fuck prophet', 'fat bastard forget vet kick ass caught', 'faggot probabl fatass', 'deport militari aircraft dump back origin famili', 'congratul figur moron decid not moron anymor freakin hero', 'citronella great venezuelan repel', 'brown peopl love white countri', 'bro delet yo shit youtub rn fuck outta yo clout chase ass', 'black person think rapper stop put n word song plu proud white proud black', 'anyon cope gender born need seriou psycholog therapi', 'anxieti definit human meme anxieti disord excus thing', 'dislik fuck homophop', 'these peopl talk nigeria sinc care nigeria find care nigeria relevenat kill farmer nigeria live peac muslim sure terrorist attack everi must rememb kill innoc not muslim mani terrorist group use religion excus come isi kill peopl come iraqi forc tri drive isi muslim caus scum not muslim', 'problem men one ever care', 'asian peopl look ident one mother asia', 'everyon win yeah except littl girl tri rape', 'sorri born indian', 'support tran peopl right free discrimin biolog male not allow compet women athlet competit', 'nose detect immigr offic yard', 'allow gay also allow hate gay peopl that freedom peopl hate believ full right jack chri hemsworth believ businesss right not serv might not right fair freedom doesnt discrimin ethic', 'said still not convinc male sore lost hipster girl mayb though', 'wow ur mom know gay u', 'women cannot creat children men women bear children', 'fuck stupid peopl', 'type dude see chat roulett', 'beat ass deserv', 'see creat transgend categori seem obviou fair solut great athlet still compet play field level mean creat weight categori maximis fair box mma fight recognis two peopl male compet differ level transgend athlet sure', 'guy fell bad hope happen im islam', 'cannot take gun home gun protect kill everyon tri enter home without approv', 'fat ugli suppos make fugli', 'yet vastli money spent breast cancer prostat cancer lethal discrimin', 'still air shit', 'would abus around neck stupid dick abus', 'well like exactli feel except want straight', 'hate leader learn eropean learn american better leader not elect good leadr elect crimin', 'proud indian muslim', 'ladi bare speak english look upon peopl disgrac', 'probabl first time seen someon look like child pedophil time', 'clean rubbish throw floor place look mess', 'violent fuck savag fuck think would happen wont thrown around contin respons preserv', 'peopl not repres islam', 'girl pretti serious autist interest experi happi autist', 'tradit german valu germani unifi late region valu tradit still rank higher modern german valu', 'resist aveng women children kill us alli', 'thing annoy noisi neighbour music', 'mountain near black sea wonder call caucasian', 'ladi sit left yellow jacket epitom smart retard', 'girl glass freak cute channel', 'fear approach girl not lesbian real spot want flirti everyth back head alway not cool not lesbian pan kinda gave relationship women born women tran women quit time ago amount gonna leav guy constant sure like girl not phase someon not true actual lesbian want admit bs much never worri anoth woman btw alway either men question valid sexual realli quit sad exe realli strong confid women except sexual', 'fact she repres black live seem kinda iron lol shouldnt live not black one clearli think race supirior even admit she racist joke not that fact said whole video', 'wrong even though disagre belief right put hand woman', 'script right pleas let script real human would said thing', 'lot realli dumb peopl one room wow', 'girl push need pay person famili medic bill lol fair', 'thank john share experi us peopl wanna say refuge stay strong although current presid fail help washington dc protest peopl suffer save evil', 'tell ship comfi electr chair kid', 'syria war go back safe', 'stupid dumb ass', 'stop put recommend wtf not gay', 'word women right freedom respons men right respons seriou', 'proud mom wish allah give strong say alhamdulillah husband son allah give merci beautiful die not suppris not cri son husband not die still aliv jannah aamiin', 'put wig run girl', 'sink boat not problem soon get messag', 'set bug bomb lock', 'seen way isra treat palestinian slaughter weekli basi racist isra point genocid', 'racism nation noth ignor henc hate cruelti', 'peopl autism nice', 'peopl get view religion peopl opinion deed focu busi god peopl say islam not peac wrong god want not mention anywher', 'home grown anim infinit prefer', 'one peopl one nation end migrat', 'ok hell terrorist get gun ammo', 'oh believ reason romanticis suicid ultim express high drama line sorri gone terribl suicid scene disturb not way probabl intend thank find difficult real case mental ill taken serious stupid fad', 'not true saudia arabia women freedom', 'parent homophob', 'god cancer spread', 'let kid kid fuck sake', 'nerdi guy polar express', 'simpl ask person asian first word mouth anyth ye not asian', 'kill see gay treat like', 'islam christian mix centuri idea cannot coexist ignor idea', 'us game call ten littl indian know bore', 'im gay fuck proud fuck bitch like peopl', 'im bisexu im not look hook whatev havent come yet im scare realli scare', 'face use insid jack box would epidem children die shock disgust', 'winni even tinni flat chest would hire miss way', 'take year interview come basic conclus brain wash damn', 'begin doubt accuraci mean violent canadian absurd', 'asian immigr came state grow live midwest experi lot racism last yr didnt matter hard work becom doctor kind person much contribut societi racism experienc pure base skin color accent hate say probabl unpleas experi minor black hispan even asian ye asian actual treat white custom respect asian custom', 'would prefer phallic world', 'would fuck kill jare leto', 'think mental ill romantic long time alreadi take exampl emo tumblr think peopl realli influenc famou peopl look beauti celebr seem movi like life peopl want special end delusion', 'see depress caus gain weight', 'read titl immedi readi kill', 'like ladi seem like role model men women open mind', 'hate white flour white sugar two three white death', 'get closet weekend friend', 'total relat actual hurt also biraci white afro american', 'huh kid like crazi eye weird move lurk around scari pleas mama creeper cuff sent asylum', 'hit not hit hit first defens', 'head look like big ass jelli bean', 'shot kid shot effin kid boi better sleep one eye open imma whoop stupid littl butt till wish never born ya wither shall aveng', 'may wheelchair not bad look forget troll dude', 'valid point obes go public especi eat unless want see look hear remark lose weight want fat ass like look like chang', 'handsom woman eww', 'guy low iq af', 'gun shot ina yu head merci', 'glenn type korean dude fuck love weird eye', 'get proper translat idiot say', 'german need quit blame atroc commit nazi thing shame happen u past slaveri steal land indian peopl get sick hear shit left constantli say bad white american', 'fuck corbyn die retir', 'song thing white say nigga word sing song black person make uncomfort ask stop would respect', 'femin islam spirit', 'everi time blond ladi talk loos twenti brain cell', 'even get surgeri look like bomb ass bitchhh love hope recov fast', 'littl sister know wear cloth bitch tit', 'peopl even care color person skin sexual movi bloodi movi', 'not kill peopl', 'know shit colour like could talk', 'use tan dark filter', 'dessert human garbag come eurabia', 'deport fuck brainless worthless piec shit freeload shot', 'christian mostli everi religion told accept one anoth give respect mean u chang ur religion ur opinion give ur respect equal u human', 'call caitlyn jenner syndrom', 'black women strong hell', 'beauti pink dress skin beauti face pretti eye sexi lip sexi lipstick perfect', 'b bl bla blac black w wh whi white', 'someon profession diagnos mental ill find disrespect disgust make profit make joke differ stori though make joke help cope line joke disrespect', 'anyon believ religion blindli lack abil critic think realli want follow rule made peopl not critic think believ god valu', 'black peopl peac', 'peopl brother sister human religion separ peopl unfortun', 'use slave year steal natur resourc europ need let die', 'aaah mother fault guy dont know hard take care autist kid huh', 'not jewish enemi', 'son bitch', 'get real fake fuck selv tell truth normal mind societi one discrimin piec pig shit cant stand fake fuck coward lie constantli much bitch honest', 'respons convinc girl pretti', 'go fuck kill die alreadi useless ugli pile shit scumbag', 'fuck asshol', 'incom racist peopl', 'war discrimin militari necessitywhen korematsu case reach suprem court octob attorney govern point constitut war power congress presid govern argu militari must take step necessari wage war success view presid roosevelt war depart gener dewitt intern japanes issei nisei militari necessityand assum war isi round isi would not raciston decemb suprem court decid uphold convict korematsu major rule refus leav prohibit militari area not consid constitution reloc camp justic hugo black write major fulli accept view gener dewitt justic black also said korematsu not forc home race militari urgenc situat', 'drink bleach', 'ive tri figur common american voter uniform republican democrat year democrat slightest clue obama deport mexican presid histori', 'hide engin would get killedthat stupid way smuggl anoth countri', 'jon snow king north thank upload one small complaint talk deport illeg immigr not immigr gener titl might mislead less inform', 'life wonder room tell clearli alcohol drink shit beer mayb stop wast money shit like appl watch could afford cloth dont come walmart get someon mom cut hair', 'make wanna hit gym thicker damn snicker dammit', 'peopl come must abl contribut societi not drain us must abl support trade not need peopl live rest us', 'use time arrest murder not littl kid', 'talk peopl differ race differ countri', 'look like kill bee fun', 'look like harri potter stay stair', 'look kinda dead insid parent must not have love', 'grace composur rabid hyena', 'deserv way subscrib shit say fuck gold', 'see countri fertil green need right govern', 'great brother abbi famili chang world', 'brave man let keep comment enabl', 'listen bill warner phd foremost expert islam', 'wtf teacher expel way treat disabl kid special autist one', 'wtf thought one sibl', 'wow reason click make second', 'wow comment soo cruel peopl muslim like religion respect need right muslim', 'wow voic read best thing life', 'women equal strong men abl defend', 'fuck would ask trump', 'censor today gener get butt hurf offend easili u dont like keep walk use free countri go toilet', 'game', 'watch', 'give damn abil freedom b whoever fuck want b', 'ever dislik video asham self', 'white chocol raspberri', 'squad complet shit pubg', 'find girlfriend', 'u two get marri kid mind', 'said complet lost shit', 'pain relief someth must wrong', 'lift arm boob go away look like mosquito bite feel like tri hot librarian look end old librarian look', 'kid never rough girl howev scratch bitten push girl still small scar one incid', 'peopl go stop ask come amp say someth not sexual mental emot abus child adult not go understand reason tell listen stop ask one reason victim come forward think bc one believ not case lot use like though situat differ differ type peopl involv reason not go listen stop ask choos ignor sexual abus come psycholog abus etc forev chang forev damag never undon instead look victim group look stori not not thing damag done', 'handsom man marri man bite finger', 'what big deal mexico immigr law polici deport peopl time noth said done yet unit state choos enforc immigr law polici peopl becom shock outrag', 'type question', 'happen rap right rap', 'episod number', 'civil nice cop', 'bomb crazi go fuck talk shit', 'wonder angel wife sooo beauti insid nice man ladi ladi beauti laughter ever heard whole life coupl love made thankyou wonder video', 'luck girl wish lucki', 'well look like time anoth child', 'well comment section pretti mental', 'well woman born guatemala em dont see anyth wrong guatemala', 'walk right sun hand hand', 'taught kid not hit anyon go window', 'allow roast year old', 'not bodi spirit soul', 'way go dr peterson hit nail head', 'war go back home not', 'wallmart employe cunt hate', 'wait tiger get shot', 'video game without car aw piec shit', 'victim help', 'sad peopl young boy ceausescu fell romania inflat skyrocket anoth level look like end soon happen one richest countri world venezuela largest resourc oil world look qatar uae saudi arabia done miracl look like not enough oil know', 'ugh heart hurt talk troll comment hurt see love radiat', 'u r still beauti still watch babe chat later dear lookin rock world say babe', 'trump racist not let brave woman return', 'true heavi metal true feel', 'transgend protect not fight', 'trace would ask rethink africa myth sinc africa theori propos mani discoveri prove modern human exist part world much earlier thought ooa theori propos instanc skelet remain human found asia mani thousand year older oldest found african content amaz much inform show older human elsewher earth peopl still adher fall narr modern human evolv african contin', 'say black live matter not racist statement b l organ racist group could quit hate white peopl turn energi toward commun biggest group black oppressor might make differ', 'honest part lgbt commun shoe hurt lot want treat way need see peopl church lgbt commun go need notic peopl like', 'white peopl might read know black man not critic base color skin know good bad peopl color good day god bless', 'video super help nice read pleas stick us alright spent eight year hate point almost kill key word almost still glad stuck around take care pleas go get better want see love jack kati everyon lt', 'time tabl turn', 'remind husband rheumatoid arthriti perman damag ankl could not walk day recent husband caregiv home ra bad walk wheelchair husband often push go walk cane everywher cute lucki reassur lucki laugh', 'liter made emot bi ass cri', 'theori whole thing michael strang ye circumst grow childhood believ tri child first time rememb time happen wonder parent would let kid sleep michael strang adult sleep kid know sure grow like michael jackson two men plenti time come michael choos tell die famili set whole time stay michael hous believ anyth happen parent fault anyon would let kid sleep michael cost take michael side sinc defend', 'fake u liar bastard ur actor u liar bastard', 'stage scene licens plate truck refriger trailer look fact peopl drive commerci truck road texa without dot cop pull fool whole thing add', 'guy get nerv christian transgirl bad', 'repres mental ill correctli randomli appear alway present', 'documentari point help class ty boy', 'actual make angri peopl stupidli look attent want make feel like import human earth nobodi pretend cancer danger physic ill pretend depress anxiou nobodi ever feel way way realli feel mental disord fact', 'must realli suffer throw food ground pigeon', 'could shot leg one get risk die', 'calm patient polic ever also bald polic man get stab', 'forget russel crow perform beauti mind know schizophrenia spot', 'day', 'video may alreadi feel long respons cut short not given true voic would love produc fuller video viewer realli hear peopl say topic not common among today peopl reward hear insight side matter topic', 'boy grow peopl make fun hate parent ruin live', 'not anyth refut massiv cope lol', 'lot confus male femal vs masculin feminin alway line nobodi seem ask mani male femal transexu femal male', 'littl land ineffici land use restrict land use polici mani peopl', 'mani error xd', 'peopl choos answer', 'veil isi also great song sword', 'pure miseri men eye heart break god bless', 'problem peopl listen peopl feel peopl side would actual listen one anoth would learn someth', 'peac religion came india like buddhism jainism etc', 'guy guess wheelchair sweet awh', 'girl thumbnail look badass', 'girl dress remind opal bird box', 'eye contact never lie', 'engag ring stori outrag', 'degre improv amaz father donat stem cell uncl cure lymphoma stem cell futur medicin', 'dark cloud side cannot fulli understand alter ego need accept depriv superpow', 'blond ladi dude orang shirt quak', 'peopl dislik salti steal date', 'problem one interfer way life someon unhappi tri escap', 'hip hop not sh bring today critic mind time one come racism oppress hate still much', 'terribl photo use', 'song fuck awesom', 'beauti right hook ive seen hero', 'hair cut make irresist', 'guy chin strap bother man idk', 'terrorist not muslim use name islam', 'terror religion terror cancer need wipe rip victim', 'tell whose terrorist', 'technic isi cia us creation', 'rex mate donkey', 'sweden cool', 'support gay pride', 'stop drink cow milk peopl realiz cow produc milk get pregnant peopl milk calf cant consum realiz puss blood found milk milk groceri store milk rest powder water gross', 'stop war lead radiat chemic kill earth share care sympathi empathi love need world', 'statist show support lemon agre think intellig overwhelmingli ignor blame fact', 'son greatest lesson teach tell troubl other tell ten peopl problem seven care two laugh behind back one tell deal', 'lyric wrong', 'societi fuck sure everyon fault', 'scroll read leav comment scroll back blue like thumb goe away done time row hmm glitch youtub remov think leav video without check happen lot channel like', 'sorri bomb attack manchest innoc peopl die', 'long live mother basement', 'slow cut shot way fast', 'short answer murder child molest natur choic', 'realli courag woman one impress women ever listen appreci film certainli wish continu success happi definit cut filmmak especi person incred remark woman', 'one tens', 'flawless omfg', 'salut woman hollywood human ladi love', 'respons someth need grow insid everyon', 'relax someth wink wink hahahahaha total enjoy video super yummi', 'red pill activ thing', 'read sentenc slow', 'put speed good', 'pokemon best game ever', 'peopl keep racism puertorican grandma nativ grandpa black mom mulata dad white white skin green eye flat nose big lip haha raze date gonna tell someth love kind women shape curvi latina white black asian arabian dnt know everi singl raze person differ type beauti let keep racism floor rise love human everybodi person choos date attract choos mix white black call mulata happi life', 'peopl right follow religion tri forc peopl not follow religion countri run dictatorship hope soon chang low intern pressur', 'peopl hate peopl think ugli peopl think horribl person well guess one name peopl', 'peopl scare chang thing know understand good bad everi race religion cultur', 'peopl individu look charact behavior obvious race meh tell genet geograph trait', 'world asham west live knowledg noth stop far late', 'omg macklemor icon love', 'omg awesom much hate stay posit', 'omg luca great kid big grow', 'okay first drag not fetish not inher meant perform art matur form perform art liter grown up play dress ye highli sexualis anyth cater adult audienc think downright disgust bring year old child drag convent liter compani booth sell sex toy not progress let kid perform seduct infront audienc creepi', 'oh god f ck cri', 'not politician go wood chipper also polic', 'shower two day bet smell like dorito mountain dew shame sweat', 'need lip sync get mic put closer sound fine', 'fuck way machin would recogn shit lol', 'bodi chang biolog sex chang gender', 'nice concept good stori poor act tri harder next time', 'next list pierc face katana', 'son school someon talk autism awar autis made awar anim autis introduc pictur pug lola also autis found interest year old son autis', 'smile beam skin gleam yuh', 'grandma roommat drag queen drag queen knwonledg cool lol', 'fav ask explicitli defin date tri work', 'cousin still talk properli like year old sensit loud nois cri nois hard talk still love cuz think one favorit person besid mother', 'car love life fuck love bitch fast make feel complet', 'best friend muslim best man world', 'much love thank courag keep speak truth', 'move franc spain motherfuck big chang', 'mayb crazi mayb not realli care tri fuck brain ill stand strong bitch', 'master love pain post', 'love video', 'love love rose red violet blue happi color lesbian bless bisexu beauti gay marvel rose red violet blue im gay happi way rude respect lgbtq peopl love love amazingli import beauti human love matter', 'love roast', 'lot love ppl world unfortun due presenc percentag dead soul make world look like hell', 'lot hater reason', 'lmao fuck hilari', 'liter reason delet instagram account sick fakeri', 'lilli singh queen yay next episod', 'lauren savag love', 'ladi gaga freddi mercuri gener', 'wanna know fuck show home youtub damn disturb', 'kid know feel', 'japanes cultur ancient uniqu', 'japan reject reject mother fucker', 'ive panic attack due noth least wouldnt know wouldv trigger question normal', 'challeng anyon realiti', 'not guilt stupid scale unknown human histori', 'like anyth without someon say wrong caus peopl joke peopl', 'human first countri', 'easi seattl wheeler not town countri', 'time trump find natur death somehow bullet find put us miseri', 'matter black white gay straight woman man tranc disabl dyslex intellig peopl qualiti', 'islam true religion believ brother', 'still job like would like take that not joke', 'dude walk room kiss girl cheek left', 'incred fuck annoy voic reason argument agre', 'uk maximum five year prison sentenc abus whether male femal non gender specif not matter abus happen gender law not discrimin gender', 'opinion god love us matter sexual gender race religion anyth action person count', 'world full hate rememb light dark world temporari', 'im glad friend', 'im lesbian proud im happi friend accept dont know famili dont care anyon say im proud lesbian', 'im philippin go outsid countri think im chines matter nope asian grew live asia dont make big deal bout not sure america differ stori', 'search coupl goal pictur danni aaron', 'ever wake one morn want smile happi', 'see bulli bull would hey middl finger would record get real troubl', 'much like famili treat like famili sponsor thier petit', 'there jikook shipper ship romant like vid comment', 'icon woman done much un', 'sad fuck situat muslim', 'arab make differ see stylish peopl', 'like see black compil video', 'white proud white love divers peopl nation let move', 'sick tire black white thing stop let happi one day one let stop pleas one love peac', 'glad someon final also brought light pay gap asian countri descript video frankli often focus us pay gap realli small alreadi compar asian countri us', 'male would fight women right human', 'british born muslim help slovakian immigr region faith taught respect honour strang time', 'bisexu never sex', 'heterosexu african birth breed charact tradit man xhosa precis still believ human right equal whatev religion ethnic demographi tribe languag equal one day peopl free enough love date whoever wanna without prejudic judgment viva human right viva', 'would order bucket ice cold water pour', 'work hour shift start know effect cut caffein', 'wish best well children', 'wish everyon father like love care', 'recent danc club song oh man grab ass blast next day leg hurt bad', 'hope post new video know busi cours interest wish post', 'clinic depress blew mind due stress say oh man get anxieti ugh depress bring attent want fact peopl make ill fashion merch make feel like everyon look peopl direct meme relat funni reliev said peopl post meme mental ill made wonder alot ik peopl capabl nowaday', 'want draw someth not know send instagram', 'want peopl throw skittl wed', 'much appreci asian woman smart', 'think black white label peopl live togeth piec despit colour dismatch', 'support lgbt want your support lgbt pakistan', 'still not come famili bieber tear', 'ship guy pleas get back togeth', 'rememb scene x file made mad mulder', 'realli wanna public experi like tran man happi least watch wwyd pleas experi tran men transgend peopl gener', 'realli like lot said feel like bare speak side topic peopl quick shut tri seriou anxieti depress mental ill almost becom buzz word seem lot peopl know difficult realli suffer feel control spoke fine line day awar influenc peopl get idea head see meme relat content start link everyth live know got perfectli healthi peopl taint world peopl around impos problem upon make life difficult need desensitis whole situat peopl come real problem want speak upsurg peopl talk feel taken serious horribl understand though imposs seesaw balanc sinc mani peopl involv mani mind million idea action imposs control wave length', 'pray god heaven earth bless victim boko haram', 'love bi girl lesbian', 'want sit buy drink talk care seem like peopl must great convers', 'love hypocrisi sick', 'start write book', 'autism yet alot friend', 'schizophrenia fight alon', 'hate alon night fuck creepi', 'got first one today bday smoke much weed thought go die scariest shit ever definit use thank', 'feel dumb want even label disabl even knew think disabl especi term affect one relationship think like mental disabl seriou use ur bodi thank enlighten sorri', 'feel like give report pistol someth protect', 'fear futur hate crime victim may well label pull smollett', 'fail one littl test mom got scare said move aunti uncl alaska', 'understand peopl get mad thing say right opinion agre not make monster evil person annoy peopl oper extrem sensit ignor mindset agre', 'see creat transgend categori seem obviou fair solut great athlet still compet play field level mean creat weight categori maximis fair box mma fight recognis two peopl male compet differ level transgend athlet sure', 'know trust guy money plss let dead world stop make show death cous u ballssss aliv', 'fact statist human fuck even mean', 'care peopl say two fucker lie fact stack hope go pay smere campaign', 'could not brave lost son husband bless strength kind heart', 'could cuddl', 'cant understand someon would think ok bulli someon', 'cant one think kinda sound like make cri noah cyru', 'smell failur phone screen', 'came small countri asia not much peopl doesnt know everi time travel somewher els peopl ask u chines japanes korean srli everi countri isnt china japan korea asia', 'bet job', 'sorri peopl disrespect guy wish could someth guy know love guy', 'proud white cant believ peopl said proud white proud white choos race proud black proud black proud one race cultur exclus poc anyon els', 'possess deamon', 'ador voic talent beat', 'much lawyer get paid go not much money world take fool', 'wake think actual cool like honestli believ averag person adher normal basic societ rule look upon respect manner', 'holi shit want go wed eight pug kid eight pug fuck amaz nobodi convinc otherwis', 'hollywood bizar sickest evillest industri', 'eyebrow probabl repres parent relationship', 'hey dude awesom pl teach', 'hey babi look like tinkerbel luhlulhulhulhulhluh', 'may histori right side time', 'smile beauti omg continu', 'head shape light bulb', 'got hottest man tit seen', 'handsom era use lipstick time', 'smile talk drown children', 'seem like talk taxi driver', 'lower iq water freez', 'anyon cri front parent feel total asham invad afterward', 'great video thank', 'gosh guy get less funni episod', 'goosebump beat drop', 'good educ man right', 'god humbl question u almighti u send earth suffer', 'god bless dear', 'girl anxieti attack dog good bro', 'gay straight homo lesbian peopl hmmm love', 'ga prefer drink', 'fuck good punch dude', 'static sound use edit know annoy use premier pro abl use decrackl help bit', 'final someon mean say year still cackl', 'final figur voiceclip came happi', 'fake news fake news', 'face challeng hard go', 'everi public good public ha watch leav neverland know guilti not music legend one take', 'even watch screen feel intens imagin would feel wit horror first hand take courag let alon even touch dead', 'even straight boy play barbi kid not issu', 'equal pay messag um say guy want social unit state america', 'enough enough', 'dunno make disabl asthma run stair involv il die suffoc lung haha xxx', 'dont drug kid', 'ever kill matter peopl think say matter think feel', 'know smile excret law new zealand max sentenc receiv judg year prison justic muslim live matter', 'know much boy abus relationship right disgust', 'anybodi actual know h h reaction channel', 'depend whether not ryan reynold room', 'delight brought back memori wonder week guy', 'damn made laugh', 'dad hair cute', 'cut fund go make problem wors', 'conveni real', 'congratu fuckin lation pitbul owner make without get bitten not encourag peopl follow footstep know peopl whose live ruin anim regardless pack mental dog rage machin dodg bullet everi day dont hurt famili', 'civil right movement transgend peopl', 'children busi develop sexual children let kid', 'child abus manipul etc hell transform world sick mind peopl stupid other send kid', 'certainli make illeg use boom done solv', 'wait music video', 'tell pedophil victim pedophil', 'see absurd call white peopl racist call black peopl crimin race even matter judg terribl peopl not terribl white peopl', 'not fuck explain whole song appreci billi voic fuck angel man need explan song listen enjoy', 'get shoutout pleaseeeee littl bit peopl', 'buy lethal gun real one not toy', 'buy pc game call camp buddi trust seen anyth yet', 'bruh would fuckin love film video mauric man like older black version swear god', 'broke heart see young boy claim allegi', 'bro channel need grow man', 'bottl beauti insid', 'peopl becom evil easili gene', 'beauti everi way', 'awar girl class know control emot understand not social accept someon age outburst', 'aw terror come nowher felt', 'end liter describ gold digger', 'point right defend sad thing bet would defend final would gotten troubl sadli right thing sufferd greatli', 'friend part lgbt commun support think awsom middl school', 'archeolog evid clear european alway taken care regardless disabl never stop disabl cool turn disabl peopl take care us togeth even cooler', 'appl tri one compani whole world basic depend futur know futur movi one compani everyth', 'anyon leav partner first sign abus', 'anyon els get full bodi numb last week rapid muscl spasm shock feel tri sleep night sleep everi hour', 'alot democrat support bullshit drain swamp', 'make america grea make america better', 'america greatest countri aint lie know know', 'alway impress profession non aggress british cop yet still get job done hat american polic need take note', 'women obviou respect admir', 'clueless report compar cronkit edward r murrow even get teleprompt read without hit floor', 'live matter matter r black white hispan muslim jew atheist christian period', 'know disord ruin fuck life', 'adida mean day dream snack', 'abus not men women', 'absolut excel ever ye cycl fabul mental health bike happi bike sad shout rain scream inwardli complex hill climb get endorphin rush outsid smile fellow cyclist pass chicken experi wee bwark chook make mani thing better', 'man chanc get cancer men die cancer women get cancer die', 'comment like view gg youtub', 'nah cut im sure regret', 'oh niki pronounc mademoisel maupin way better siri', 'wanna make feel okay', 'midnight sun hot spring blow', 'say not type', 'therefor never send know bell toll', 'stand anoth day', 'valu unless otherwis state us dollar']\n"
          ],
          "name": "stdout"
        }
      ]
    },
    {
      "cell_type": "markdown",
      "metadata": {
        "id": "CLqmAkANCp1-"
      },
      "source": [
        "## Creating the Bag of Words model"
      ]
    },
    {
      "cell_type": "code",
      "metadata": {
        "id": "qroF7XcSCvY3"
      },
      "source": [
        "from sklearn.feature_extraction.text import CountVectorizer\n",
        "cv = CountVectorizer(max_features = 2700)\n",
        "X = cv.fit_transform(corpus).toarray()\n",
        "y = dataset.iloc[:, -1].values\n",
        "for i in range(0,998):\n",
        "  if y[i] >= 0.5:\n",
        "    y[i] = int(1)\n",
        "  else:\n",
        "    y[i] = int(0)"
      ],
      "execution_count": 8,
      "outputs": []
    },
    {
      "cell_type": "code",
      "metadata": {
        "colab": {
          "base_uri": "https://localhost:8080/"
        },
        "id": "SpYB-9YisP7_",
        "outputId": "16c3ceab-f6d9-48f7-cf46-f54754eb4e68"
      },
      "source": [
        "len(X[0])"
      ],
      "execution_count": null,
      "outputs": [
        {
          "output_type": "execute_result",
          "data": {
            "text/plain": [
              "2700"
            ]
          },
          "metadata": {
            "tags": []
          },
          "execution_count": 21
        }
      ]
    },
    {
      "cell_type": "markdown",
      "metadata": {
        "id": "DH_VjgPzC2cd"
      },
      "source": [
        "## Splitting the dataset into the Training set and Test set"
      ]
    },
    {
      "cell_type": "code",
      "metadata": {
        "id": "qQXYM5VzDDDI"
      },
      "source": [
        "from sklearn.model_selection import train_test_split\n",
        "X_train, X_test, y_train, y_test = train_test_split(X, y, test_size = 0.20, random_state = 0)"
      ],
      "execution_count": 9,
      "outputs": []
    },
    {
      "cell_type": "code",
      "metadata": {
        "colab": {
          "base_uri": "https://localhost:8080/"
        },
        "id": "aPFHoapenUxs",
        "outputId": "20501595-3e3c-471a-b210-366cc6fe2b3f"
      },
      "source": [
        "print(y_test)"
      ],
      "execution_count": null,
      "outputs": [
        {
          "output_type": "stream",
          "text": [
            "[1. 0. 1. 1. 0. 0. 0. 1. 0. 1. 0. 1. 1. 1. 0. 0. 0. 0. 0. 1. 0. 1. 1. 1.\n",
            " 1. 0. 0. 1. 0. 0. 0. 0. 1. 0. 0. 0. 0. 0. 1. 0. 1. 0. 1. 1. 1. 0. 0. 0.\n",
            " 0. 0. 0. 0. 0. 0. 0. 1. 0. 1. 1. 0. 1. 0. 1. 1. 0. 1. 1. 1. 1. 1. 0. 1.\n",
            " 1. 0. 0. 0. 0. 0. 0. 0. 1. 0. 0. 1. 0. 0. 0. 1. 0. 1. 0. 1. 0. 0. 0. 0.\n",
            " 0. 0. 1. 1. 0. 0. 1. 1. 1. 1. 0. 0. 1. 0. 1. 0. 0. 0. 0. 1. 0. 0. 1. 1.\n",
            " 0. 0. 1. 0. 0. 0. 1. 1. 1. 1. 0. 1. 0. 0. 1. 1. 0. 0. 1. 1. 0. 1. 1. 1.\n",
            " 0. 1. 0. 0. 1. 0. 0. 0. 0. 0. 0. 0. 0. 0. 1. 0. 0. 0. 0. 0. 0. 1. 0. 0.\n",
            " 0. 1. 0. 0. 1. 0. 0. 0. 1. 0. 1. 0. 1. 1. 0. 1. 0. 0. 1. 0. 0. 0. 0. 0.\n",
            " 1. 1. 1. 0. 0. 1. 1. 0.]\n"
          ],
          "name": "stdout"
        }
      ]
    },
    {
      "cell_type": "markdown",
      "metadata": {
        "id": "VkIq23vEDIPt"
      },
      "source": [
        "## Training the Naive Bayes model on the Training set"
      ]
    },
    {
      "cell_type": "code",
      "metadata": {
        "id": "DS9oiDXXDRdI",
        "colab": {
          "base_uri": "https://localhost:8080/"
        },
        "outputId": "da61124c-3df3-44ab-baa4-2fd70ab2a7e8"
      },
      "source": [
        "from sklearn.naive_bayes import GaussianNB\n",
        "classifier = GaussianNB()\n",
        "classifier.fit(X_train, y_train)"
      ],
      "execution_count": 10,
      "outputs": [
        {
          "output_type": "execute_result",
          "data": {
            "text/plain": [
              "GaussianNB(priors=None, var_smoothing=1e-09)"
            ]
          },
          "metadata": {
            "tags": []
          },
          "execution_count": 10
        }
      ]
    },
    {
      "cell_type": "markdown",
      "metadata": {
        "id": "1JaRM7zXDWUy"
      },
      "source": [
        "## Predicting the Test set results"
      ]
    },
    {
      "cell_type": "code",
      "metadata": {
        "id": "Iif0CVhFDaMp",
        "colab": {
          "base_uri": "https://localhost:8080/"
        },
        "outputId": "a126ddfa-8e27-481c-f4f2-65ee8b34a069"
      },
      "source": [
        "y_pred = classifier.predict(X_test)\n",
        "print(np.concatenate((y_pred.reshape(len(y_pred),1), y_test.reshape(len(y_test),1)),1))"
      ],
      "execution_count": 11,
      "outputs": [
        {
          "output_type": "stream",
          "text": [
            "[[0. 1.]\n",
            " [0. 0.]\n",
            " [1. 1.]\n",
            " [1. 1.]\n",
            " [1. 0.]\n",
            " [1. 0.]\n",
            " [0. 0.]\n",
            " [1. 1.]\n",
            " [0. 0.]\n",
            " [1. 1.]\n",
            " [1. 0.]\n",
            " [1. 1.]\n",
            " [1. 1.]\n",
            " [1. 1.]\n",
            " [1. 0.]\n",
            " [0. 0.]\n",
            " [0. 0.]\n",
            " [0. 0.]\n",
            " [1. 0.]\n",
            " [1. 1.]\n",
            " [1. 0.]\n",
            " [1. 1.]\n",
            " [0. 1.]\n",
            " [0. 1.]\n",
            " [1. 1.]\n",
            " [1. 0.]\n",
            " [1. 0.]\n",
            " [0. 1.]\n",
            " [1. 0.]\n",
            " [1. 0.]\n",
            " [1. 0.]\n",
            " [1. 0.]\n",
            " [1. 1.]\n",
            " [0. 0.]\n",
            " [0. 0.]\n",
            " [1. 0.]\n",
            " [1. 0.]\n",
            " [0. 0.]\n",
            " [1. 1.]\n",
            " [1. 0.]\n",
            " [1. 1.]\n",
            " [1. 0.]\n",
            " [0. 1.]\n",
            " [0. 1.]\n",
            " [0. 1.]\n",
            " [0. 0.]\n",
            " [0. 0.]\n",
            " [1. 0.]\n",
            " [0. 0.]\n",
            " [1. 0.]\n",
            " [1. 0.]\n",
            " [1. 0.]\n",
            " [1. 0.]\n",
            " [1. 0.]\n",
            " [0. 0.]\n",
            " [1. 1.]\n",
            " [1. 0.]\n",
            " [1. 1.]\n",
            " [0. 1.]\n",
            " [1. 0.]\n",
            " [0. 1.]\n",
            " [0. 0.]\n",
            " [1. 1.]\n",
            " [1. 1.]\n",
            " [1. 0.]\n",
            " [1. 1.]\n",
            " [0. 1.]\n",
            " [1. 1.]\n",
            " [1. 1.]\n",
            " [0. 1.]\n",
            " [0. 0.]\n",
            " [1. 1.]\n",
            " [0. 1.]\n",
            " [1. 0.]\n",
            " [1. 0.]\n",
            " [0. 0.]\n",
            " [1. 0.]\n",
            " [0. 0.]\n",
            " [1. 0.]\n",
            " [1. 0.]\n",
            " [1. 1.]\n",
            " [1. 0.]\n",
            " [1. 0.]\n",
            " [0. 1.]\n",
            " [1. 0.]\n",
            " [1. 0.]\n",
            " [0. 0.]\n",
            " [0. 1.]\n",
            " [0. 0.]\n",
            " [0. 1.]\n",
            " [1. 0.]\n",
            " [0. 1.]\n",
            " [1. 0.]\n",
            " [1. 0.]\n",
            " [1. 0.]\n",
            " [0. 0.]\n",
            " [1. 0.]\n",
            " [1. 0.]\n",
            " [1. 1.]\n",
            " [1. 1.]\n",
            " [0. 0.]\n",
            " [0. 0.]\n",
            " [0. 1.]\n",
            " [1. 1.]\n",
            " [1. 1.]\n",
            " [0. 1.]\n",
            " [0. 0.]\n",
            " [1. 0.]\n",
            " [1. 1.]\n",
            " [1. 0.]\n",
            " [1. 1.]\n",
            " [0. 0.]\n",
            " [1. 0.]\n",
            " [0. 0.]\n",
            " [0. 0.]\n",
            " [0. 1.]\n",
            " [1. 0.]\n",
            " [1. 0.]\n",
            " [1. 1.]\n",
            " [1. 1.]\n",
            " [1. 0.]\n",
            " [0. 0.]\n",
            " [0. 1.]\n",
            " [1. 0.]\n",
            " [0. 0.]\n",
            " [0. 0.]\n",
            " [1. 1.]\n",
            " [1. 1.]\n",
            " [1. 1.]\n",
            " [0. 1.]\n",
            " [0. 0.]\n",
            " [1. 1.]\n",
            " [0. 0.]\n",
            " [0. 0.]\n",
            " [1. 1.]\n",
            " [0. 1.]\n",
            " [1. 0.]\n",
            " [1. 0.]\n",
            " [1. 1.]\n",
            " [0. 1.]\n",
            " [1. 0.]\n",
            " [1. 1.]\n",
            " [1. 1.]\n",
            " [1. 1.]\n",
            " [0. 0.]\n",
            " [0. 1.]\n",
            " [1. 0.]\n",
            " [0. 0.]\n",
            " [1. 1.]\n",
            " [1. 0.]\n",
            " [1. 0.]\n",
            " [1. 0.]\n",
            " [1. 0.]\n",
            " [1. 0.]\n",
            " [1. 0.]\n",
            " [0. 0.]\n",
            " [0. 0.]\n",
            " [0. 0.]\n",
            " [1. 1.]\n",
            " [1. 0.]\n",
            " [1. 0.]\n",
            " [0. 0.]\n",
            " [1. 0.]\n",
            " [1. 0.]\n",
            " [0. 0.]\n",
            " [0. 1.]\n",
            " [0. 0.]\n",
            " [0. 0.]\n",
            " [0. 0.]\n",
            " [1. 1.]\n",
            " [1. 0.]\n",
            " [1. 0.]\n",
            " [1. 1.]\n",
            " [0. 0.]\n",
            " [0. 0.]\n",
            " [1. 0.]\n",
            " [0. 1.]\n",
            " [1. 0.]\n",
            " [1. 1.]\n",
            " [1. 0.]\n",
            " [1. 1.]\n",
            " [1. 1.]\n",
            " [1. 0.]\n",
            " [1. 1.]\n",
            " [1. 0.]\n",
            " [1. 0.]\n",
            " [0. 1.]\n",
            " [1. 0.]\n",
            " [0. 0.]\n",
            " [1. 0.]\n",
            " [1. 0.]\n",
            " [1. 0.]\n",
            " [0. 1.]\n",
            " [1. 1.]\n",
            " [1. 1.]\n",
            " [0. 0.]\n",
            " [1. 0.]\n",
            " [1. 1.]\n",
            " [1. 1.]\n",
            " [0. 0.]]\n"
          ],
          "name": "stdout"
        }
      ]
    },
    {
      "cell_type": "markdown",
      "metadata": {
        "id": "xoMltea5Dir1"
      },
      "source": [
        "## Making the Confusion Matrix"
      ]
    },
    {
      "cell_type": "code",
      "metadata": {
        "id": "Xj9IU6MxDnvo",
        "colab": {
          "base_uri": "https://localhost:8080/"
        },
        "outputId": "1e98632d-2c5b-42f6-d1c3-4c348d7b8292"
      },
      "source": [
        "from sklearn.metrics import confusion_matrix, accuracy_score\n",
        "cm = confusion_matrix(y_test, y_pred)\n",
        "print(cm)\n",
        "accuracy_score(y_test, y_pred)"
      ],
      "execution_count": 12,
      "outputs": [
        {
          "output_type": "stream",
          "text": [
            "[[47 74]\n",
            " [28 51]]\n"
          ],
          "name": "stdout"
        },
        {
          "output_type": "execute_result",
          "data": {
            "text/plain": [
              "0.49"
            ]
          },
          "metadata": {
            "tags": []
          },
          "execution_count": 12
        }
      ]
    },
    {
      "cell_type": "code",
      "metadata": {
        "id": "jBhqVQF1brpL"
      },
      "source": [
        "tp = cm[0][0]\n",
        "tn = cm[1][0]\n",
        "fp = cm[0][1]\n",
        "fn = cm[1][1]\n",
        "accuracy = (tp + tn)/(tp + tn + fp + fn)\n",
        "precision = (tp)/(tp + fp)\n",
        "recall = tp/(tp + fn)\n",
        "f1_score = 2*precision*recall/(precision + recall)"
      ],
      "execution_count": 14,
      "outputs": []
    },
    {
      "cell_type": "code",
      "metadata": {
        "colab": {
          "base_uri": "https://localhost:8080/"
        },
        "id": "eIfeCLCIfzta",
        "outputId": "1a0894bb-54e8-4935-f98f-40b88621fbc1"
      },
      "source": [
        "print(accuracy)"
      ],
      "execution_count": 15,
      "outputs": [
        {
          "output_type": "stream",
          "text": [
            "0.375\n"
          ],
          "name": "stdout"
        }
      ]
    },
    {
      "cell_type": "code",
      "metadata": {
        "colab": {
          "base_uri": "https://localhost:8080/"
        },
        "id": "DBWHOyuzf7uR",
        "outputId": "ab921f03-b099-47e0-c797-26ea3bebe559"
      },
      "source": [
        "print(precision)"
      ],
      "execution_count": 16,
      "outputs": [
        {
          "output_type": "stream",
          "text": [
            "0.3884297520661157\n"
          ],
          "name": "stdout"
        }
      ]
    },
    {
      "cell_type": "code",
      "metadata": {
        "colab": {
          "base_uri": "https://localhost:8080/"
        },
        "id": "ipt01054gAYE",
        "outputId": "1d448cc9-0f57-4b7f-faba-562708f46c85"
      },
      "source": [
        "print(recall)"
      ],
      "execution_count": 17,
      "outputs": [
        {
          "output_type": "stream",
          "text": [
            "0.47959183673469385\n"
          ],
          "name": "stdout"
        }
      ]
    },
    {
      "cell_type": "code",
      "metadata": {
        "colab": {
          "base_uri": "https://localhost:8080/"
        },
        "id": "jPE_tepogDrp",
        "outputId": "4a8a0976-4283-4251-e462-1963e6322c31"
      },
      "source": [
        "print(f1_score)"
      ],
      "execution_count": 18,
      "outputs": [
        {
          "output_type": "stream",
          "text": [
            "0.4292237442922374\n"
          ],
          "name": "stdout"
        }
      ]
    }
  ]
}